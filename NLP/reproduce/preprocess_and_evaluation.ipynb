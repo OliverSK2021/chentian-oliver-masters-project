{
 "cells": [
  {
   "cell_type": "code",
   "execution_count": 44,
   "id": "08c65f7f",
   "metadata": {},
   "outputs": [],
   "source": [
    "import json\n",
    "import pandas as pd\n",
    "from sklearn.metrics import accuracy_score, f1_score, confusion_matrix, ConfusionMatrixDisplay\n",
    "import matplotlib.pyplot as plt\n",
    "import seaborn as sns\n"
   ]
  },
  {
   "cell_type": "code",
   "execution_count": 19,
   "id": "509fe42a",
   "metadata": {},
   "outputs": [],
   "source": [
    "test = pd.DataFrame(columns=[\"func\",\"target\"])"
   ]
  },
  {
   "cell_type": "code",
   "execution_count": 22,
   "id": "978d855a",
   "metadata": {},
   "outputs": [],
   "source": [
    "i=0\n",
    "with open(\"data_defect_test.jsonl\",\"r\") as f:\n",
    "    for line in f:\n",
    "        line = json.loads(line)\n",
    "        func = line[\"func\"]\n",
    "        target = line[\"target\"]\n",
    "        test.at[i,\"func\"] = func\n",
    "        test.at[i,\"target\"] = target\n",
    "        i+=1\n",
    "\n",
    "        \n",
    "\n",
    "    "
   ]
  },
  {
   "cell_type": "code",
   "execution_count": 24,
   "id": "6a6764eb",
   "metadata": {},
   "outputs": [],
   "source": [
    "test.to_csv(\"data_defect_test.csv\")"
   ]
  },
  {
   "cell_type": "code",
   "execution_count": 28,
   "id": "c9416b52",
   "metadata": {
    "scrolled": true
   },
   "outputs": [
    {
     "data": {
      "text/html": [
       "<div>\n",
       "<style scoped>\n",
       "    .dataframe tbody tr th:only-of-type {\n",
       "        vertical-align: middle;\n",
       "    }\n",
       "\n",
       "    .dataframe tbody tr th {\n",
       "        vertical-align: top;\n",
       "    }\n",
       "\n",
       "    .dataframe thead th {\n",
       "        text-align: right;\n",
       "    }\n",
       "</style>\n",
       "<table border=\"1\" class=\"dataframe\">\n",
       "  <thead>\n",
       "    <tr style=\"text-align: right;\">\n",
       "      <th></th>\n",
       "      <th>Unnamed: 0</th>\n",
       "      <th>Generated Text</th>\n",
       "      <th>Actual Text</th>\n",
       "    </tr>\n",
       "  </thead>\n",
       "  <tbody>\n",
       "    <tr>\n",
       "      <th>0</th>\n",
       "      <td>0</td>\n",
       "      <td>True</td>\n",
       "      <td>0</td>\n",
       "    </tr>\n",
       "    <tr>\n",
       "      <th>1</th>\n",
       "      <td>1</td>\n",
       "      <td>False</td>\n",
       "      <td>1</td>\n",
       "    </tr>\n",
       "    <tr>\n",
       "      <th>2</th>\n",
       "      <td>2</td>\n",
       "      <td>False</td>\n",
       "      <td>1</td>\n",
       "    </tr>\n",
       "    <tr>\n",
       "      <th>3</th>\n",
       "      <td>3</td>\n",
       "      <td>True</td>\n",
       "      <td>0</td>\n",
       "    </tr>\n",
       "    <tr>\n",
       "      <th>4</th>\n",
       "      <td>4</td>\n",
       "      <td>True</td>\n",
       "      <td>0</td>\n",
       "    </tr>\n",
       "    <tr>\n",
       "      <th>...</th>\n",
       "      <td>...</td>\n",
       "      <td>...</td>\n",
       "      <td>...</td>\n",
       "    </tr>\n",
       "    <tr>\n",
       "      <th>2727</th>\n",
       "      <td>2727</td>\n",
       "      <td>False</td>\n",
       "      <td>0</td>\n",
       "    </tr>\n",
       "    <tr>\n",
       "      <th>2728</th>\n",
       "      <td>2728</td>\n",
       "      <td>False</td>\n",
       "      <td>0</td>\n",
       "    </tr>\n",
       "    <tr>\n",
       "      <th>2729</th>\n",
       "      <td>2729</td>\n",
       "      <td>True</td>\n",
       "      <td>0</td>\n",
       "    </tr>\n",
       "    <tr>\n",
       "      <th>2730</th>\n",
       "      <td>2730</td>\n",
       "      <td>False</td>\n",
       "      <td>0</td>\n",
       "    </tr>\n",
       "    <tr>\n",
       "      <th>2731</th>\n",
       "      <td>2731</td>\n",
       "      <td>True</td>\n",
       "      <td>0</td>\n",
       "    </tr>\n",
       "  </tbody>\n",
       "</table>\n",
       "<p>2732 rows × 3 columns</p>\n",
       "</div>"
      ],
      "text/plain": [
       "      Unnamed: 0  Generated Text  Actual Text\n",
       "0              0            True            0\n",
       "1              1           False            1\n",
       "2              2           False            1\n",
       "3              3            True            0\n",
       "4              4            True            0\n",
       "...          ...             ...          ...\n",
       "2727        2727           False            0\n",
       "2728        2728           False            0\n",
       "2729        2729            True            0\n",
       "2730        2730           False            0\n",
       "2731        2731            True            0\n",
       "\n",
       "[2732 rows x 3 columns]"
      ]
     },
     "execution_count": 28,
     "metadata": {},
     "output_type": "execute_result"
    }
   ],
   "source": [
    "df = pd.read_csv(\"predictions.csv\")\n",
    "df"
   ]
  },
  {
   "cell_type": "code",
   "execution_count": 29,
   "id": "ee16d858",
   "metadata": {},
   "outputs": [
    {
     "data": {
      "text/plain": [
       "True"
      ]
     },
     "execution_count": 29,
     "metadata": {},
     "output_type": "execute_result"
    }
   ],
   "source": [
    "df[\"Generated Text\"][0]"
   ]
  },
  {
   "cell_type": "code",
   "execution_count": 37,
   "id": "a54064a4",
   "metadata": {},
   "outputs": [],
   "source": [
    "pred = []\n",
    "for i in range(df.shape[0]):\n",
    "    if df[\"Generated Text\"][i]:\n",
    "        pred.append(1)\n",
    "    elif not df[\"Generated Text\"][i]:\n",
    "        pred.append(0)"
   ]
  },
  {
   "cell_type": "code",
   "execution_count": 38,
   "id": "772609e7",
   "metadata": {},
   "outputs": [
    {
     "data": {
      "text/plain": [
       "0.6416544655929722"
      ]
     },
     "execution_count": 38,
     "metadata": {},
     "output_type": "execute_result"
    }
   ],
   "source": [
    "accuracy_score(pred,df[\"Actual Text\"])"
   ]
  },
  {
   "cell_type": "code",
   "execution_count": 41,
   "id": "f44823a0",
   "metadata": {},
   "outputs": [
    {
     "data": {
      "text/plain": [
       "0.6416544655929722"
      ]
     },
     "execution_count": 41,
     "metadata": {},
     "output_type": "execute_result"
    }
   ],
   "source": [
    "accuracy = accuracy_score(pred,df[\"Actual Text\"])\n",
    "accuracy"
   ]
  },
  {
   "cell_type": "code",
   "execution_count": 42,
   "id": "c04e2be9",
   "metadata": {},
   "outputs": [
    {
     "data": {
      "text/plain": [
       "0.610115491835922"
      ]
     },
     "execution_count": 42,
     "metadata": {},
     "output_type": "execute_result"
    }
   ],
   "source": [
    "f1score = f1_score(pred,df[\"Actual Text\"])\n",
    "f1score"
   ]
  },
  {
   "cell_type": "code",
   "execution_count": 45,
   "id": "6c319ab0",
   "metadata": {},
   "outputs": [
    {
     "data": {
      "text/plain": [
       "Text(0.5, 1.0, 'Confusion Matrix for CodeBERT')"
      ]
     },
     "execution_count": 45,
     "metadata": {},
     "output_type": "execute_result"
    },
    {
     "data": {
      "image/png": "[encoded data removed]",
      "text/plain": [
       "<Figure size 432x288 with 1 Axes>"
      ]
     },
     "metadata": {
      "needs_background": "light"
     },
     "output_type": "display_data"
    }
   ],
   "source": [
    "cm = confusion_matrix(df[\"Actual Text\"],pred)\n",
    "cm = pd.DataFrame(cm, columns=['negative','positive'],index = ['negative','positive']) \n",
    "sns.heatmap(cm, fmt='d', annot=True, square=True,\n",
    "            cmap='gray_r', vmin=0, vmax=0,  # set all to white\n",
    "            linewidths=0.5, linecolor='k',  # draw black grid lines\n",
    "            cbar=False)                     # disable colorbar\n",
    "\n",
    "# re-enable outer spines\n",
    "sns.despine(left=False, right=False, top=False, bottom=False)\n",
    "plt.title('Confusion Matrix for CodeBERT')"
   ]
  },
  {
   "cell_type": "code",
   "execution_count": null,
   "id": "4d287c04",
   "metadata": {},
   "outputs": [],
   "source": []
  }
 ],
 "metadata": {
  "kernelspec": {
   "display_name": "Python 3 (ipykernel)",
   "language": "python",
   "name": "python3"
  },
  "language_info": {
   "codemirror_mode": {
    "name": "ipython",
    "version": 3
   },
   "file_extension": ".py",
   "mimetype": "text/x-python",
   "name": "python",
   "nbconvert_exporter": "python",
   "pygments_lexer": "ipython3",
   "version": "3.9.12"
  }
 },
 "nbformat": 4,
 "nbformat_minor": 5
}
