{
 "cells": [
  {
   "cell_type": "code",
   "execution_count": 17,
   "id": "7594de6c",
   "metadata": {},
   "outputs": [],
   "source": [
    "import pandas as pd\n",
    "import json"
   ]
  },
  {
   "cell_type": "code",
   "execution_count": 5,
   "id": "5f6693d8",
   "metadata": {},
   "outputs": [],
   "source": [
    "vlist=['command_injection','open_redirect','path_disclosure','remote_code_execution','sql','xsrf','xss']"
   ]
  },
  {
   "cell_type": "code",
   "execution_count": 14,
   "id": "10369cce",
   "metadata": {},
   "outputs": [
    {
     "name": "stdout",
     "output_type": "stream",
     "text": [
      "{'command_injection': 198}\n",
      "{'open_redirect': 178}\n",
      "{'path_disclosure': 222}\n",
      "{'remote_code_execution': 86}\n",
      "{'sql': 202}\n",
      "{'xsrf': 92}\n",
      "{'xss': 124}\n"
     ]
    }
   ],
   "source": [
    "for vtype in vlist:\n",
    "    length = pd.read_csv('../python_data/'+vtype+'_df.csv').shape[0]\n",
    "    print({vtype:length})"
   ]
  },
  {
   "cell_type": "code",
   "execution_count": 24,
   "id": "7b98175d",
   "metadata": {},
   "outputs": [
    {
     "name": "stdout",
     "output_type": "stream",
     "text": [
      "{'command_injection': 198}\n",
      "{'open_redirect': 178}\n",
      "{'path_disclosure': 222}\n",
      "{'remote_code_execution': 86}\n",
      "{'sql': 202}\n",
      "{'xsrf': 92}\n",
      "{'xss': 124}\n"
     ]
    }
   ],
   "source": [
    "for vtype in vlist:\n",
    "    file_path = '../python_data/'+vtype+'.json'\n",
    "    with open(file_path) as f:\n",
    "        for line in f:\n",
    "            js=json.loads(line.strip())\n",
    "            length = len(js)\n",
    "        print({vtype:length})"
   ]
  },
  {
   "cell_type": "code",
   "execution_count": null,
   "id": "00175112",
   "metadata": {},
   "outputs": [],
   "source": []
  }
 ],
 "metadata": {
  "kernelspec": {
   "display_name": "Python 3 (ipykernel)",
   "language": "python",
   "name": "python3"
  },
  "language_info": {
   "codemirror_mode": {
    "name": "ipython",
    "version": 3
   },
   "file_extension": ".py",
   "mimetype": "text/x-python",
   "name": "python",
   "nbconvert_exporter": "python",
   "pygments_lexer": "ipython3",
   "version": "3.9.12"
  }
 },
 "nbformat": 4,
 "nbformat_minor": 5
}
