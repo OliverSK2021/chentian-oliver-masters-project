{
 "cells": [
  {
   "cell_type": "code",
   "execution_count": 3,
   "id": "6929790a",
   "metadata": {},
   "outputs": [
    {
     "name": "stdout",
     "output_type": "stream",
     "text": [
      "Looking in indexes: https://pypi.python.org/simple"
     ]
    },
    {
     "name": "stderr",
     "output_type": "stream",
     "text": [
      "WARNING: Ignoring invalid distribution -yspark (d:\\users\\cryst\\appdata\\local\\programs\\python\\python39\\lib\\site-packages)\n",
      "WARNING: Ignoring invalid distribution -ip (d:\\users\\cryst\\appdata\\local\\programs\\python\\python39\\lib\\site-packages)\n",
      "WARNING: Ignoring invalid distribution -atplotlib (d:\\users\\cryst\\appdata\\local\\programs\\python\\python39\\lib\\site-packages)\n",
      "WARNING: Ignoring invalid distribution -yspark (d:\\users\\cryst\\appdata\\local\\programs\\python\\python39\\lib\\site-packages)\n",
      "WARNING: Ignoring invalid distribution -ip (d:\\users\\cryst\\appdata\\local\\programs\\python\\python39\\lib\\site-packages)\n",
      "WARNING: Ignoring invalid distribution -atplotlib (d:\\users\\cryst\\appdata\\local\\programs\\python\\python39\\lib\\site-packages)\n",
      "WARNING: Ignoring invalid distribution -yspark (d:\\users\\cryst\\appdata\\local\\programs\\python\\python39\\lib\\site-packages)\n",
      "WARNING: Ignoring invalid distribution -ip (d:\\users\\cryst\\appdata\\local\\programs\\python\\python39\\lib\\site-packages)\n",
      "WARNING: Ignoring invalid distribution -atplotlib (d:\\users\\cryst\\appdata\\local\\programs\\python\\python39\\lib\\site-packages)\n",
      "WARNING: Ignoring invalid distribution -yspark (d:\\users\\cryst\\appdata\\local\\programs\\python\\python39\\lib\\site-packages)\n",
      "WARNING: Ignoring invalid distribution -ip (d:\\users\\cryst\\appdata\\local\\programs\\python\\python39\\lib\\site-packages)\n",
      "WARNING: Ignoring invalid distribution -atplotlib (d:\\users\\cryst\\appdata\\local\\programs\\python\\python39\\lib\\site-packages)\n",
      "WARNING: Ignoring invalid distribution -yspark (d:\\users\\cryst\\appdata\\local\\programs\\python\\python39\\lib\\site-packages)\n",
      "WARNING: Ignoring invalid distribution -ip (d:\\users\\cryst\\appdata\\local\\programs\\python\\python39\\lib\\site-packages)\n",
      "WARNING: Ignoring invalid distribution -atplotlib (d:\\users\\cryst\\appdata\\local\\programs\\python\\python39\\lib\\site-packages)\n",
      "WARNING: Ignoring invalid distribution -yspark (d:\\users\\cryst\\appdata\\local\\programs\\python\\python39\\lib\\site-packages)\n",
      "WARNING: Ignoring invalid distribution -ip (d:\\users\\cryst\\appdata\\local\\programs\\python\\python39\\lib\\site-packages)\n",
      "WARNING: Ignoring invalid distribution -atplotlib (d:\\users\\cryst\\appdata\\local\\programs\\python\\python39\\lib\\site-packages)\n",
      "WARNING: Ignoring invalid distribution -yspark (d:\\users\\cryst\\appdata\\local\\programs\\python\\python39\\lib\\site-packages)\n",
      "WARNING: Ignoring invalid distribution -ip (d:\\users\\cryst\\appdata\\local\\programs\\python\\python39\\lib\\site-packages)\n",
      "WARNING: Ignoring invalid distribution -atplotlib (d:\\users\\cryst\\appdata\\local\\programs\\python\\python39\\lib\\site-packages)\n",
      "WARNING: Ignoring invalid distribution -yspark (d:\\users\\cryst\\appdata\\local\\programs\\python\\python39\\lib\\site-packages)\n",
      "WARNING: Ignoring invalid distribution -ip (d:\\users\\cryst\\appdata\\local\\programs\\python\\python39\\lib\\site-packages)\n",
      "WARNING: Ignoring invalid distribution -atplotlib (d:\\users\\cryst\\appdata\\local\\programs\\python\\python39\\lib\\site-packages)\n",
      "WARNING: Ignoring invalid distribution -yspark (d:\\users\\cryst\\appdata\\local\\programs\\python\\python39\\lib\\site-packages)\n",
      "WARNING: Ignoring invalid distribution -ip (d:\\users\\cryst\\appdata\\local\\programs\\python\\python39\\lib\\site-packages)\n",
      "WARNING: Ignoring invalid distribution -atplotlib (d:\\users\\cryst\\appdata\\local\\programs\\python\\python39\\lib\\site-packages)\n",
      "WARNING: Ignoring invalid distribution -yspark (d:\\users\\cryst\\appdata\\local\\programs\\python\\python39\\lib\\site-packages)\n",
      "WARNING: Ignoring invalid distribution -ip (d:\\users\\cryst\\appdata\\local\\programs\\python\\python39\\lib\\site-packages)\n",
      "WARNING: Ignoring invalid distribution -atplotlib (d:\\users\\cryst\\appdata\\local\\programs\\python\\python39\\lib\\site-packages)\n"
     ]
    },
    {
     "name": "stdout",
     "output_type": "stream",
     "text": [
      "\n",
      "Collecting transformers\n",
      "  Downloading transformers-4.20.1-py3-none-any.whl (4.4 MB)\n",
      "     ---------------------------------------- 4.4/4.4 MB 1.4 MB/s eta 0:00:00\n",
      "Requirement already satisfied: packaging>=20.0 in c:\\users\\cryst\\appdata\\roaming\\python\\python39\\site-packages (from transformers) (21.3)\n",
      "Collecting tokenizers!=0.11.3,<0.13,>=0.11.1\n",
      "  Downloading tokenizers-0.12.1-cp39-cp39-win_amd64.whl (3.3 MB)\n",
      "     ---------------------------------------- 3.3/3.3 MB 4.3 MB/s eta 0:00:00\n",
      "Requirement already satisfied: regex!=2019.12.17 in d:\\users\\cryst\\appdata\\local\\programs\\python\\python39\\lib\\site-packages (from transformers) (2022.1.18)\n",
      "Requirement already satisfied: numpy>=1.17 in c:\\users\\cryst\\appdata\\roaming\\python\\python39\\site-packages (from transformers) (1.22.3)\n",
      "Requirement already satisfied: tqdm>=4.27 in d:\\users\\cryst\\appdata\\local\\programs\\python\\python39\\lib\\site-packages (from transformers) (4.62.3)\n",
      "Collecting huggingface-hub<1.0,>=0.1.0\n",
      "  Downloading huggingface_hub-0.8.1-py3-none-any.whl (101 kB)\n",
      "     -------------------------------------- 101.5/101.5 kB 2.9 MB/s eta 0:00:00\n",
      "Collecting filelock\n",
      "  Downloading filelock-3.7.1-py3-none-any.whl (10 kB)\n",
      "Requirement already satisfied: pyyaml>=5.1 in d:\\users\\cryst\\appdata\\local\\programs\\python\\python39\\lib\\site-packages (from transformers) (6.0)\n",
      "Requirement already satisfied: requests in d:\\users\\cryst\\appdata\\local\\programs\\python\\python39\\lib\\site-packages (from transformers) (2.26.0)\n",
      "Requirement already satisfied: typing-extensions>=3.7.4.3 in d:\\users\\cryst\\appdata\\local\\programs\\python\\python39\\lib\\site-packages (from huggingface-hub<1.0,>=0.1.0->transformers) (3.7.4.3)\n",
      "Requirement already satisfied: pyparsing!=3.0.5,>=2.0.2 in c:\\users\\cryst\\appdata\\roaming\\python\\python39\\site-packages (from packaging>=20.0->transformers) (3.0.8)\n",
      "Requirement already satisfied: colorama in d:\\users\\cryst\\appdata\\local\\programs\\python\\python39\\lib\\site-packages (from tqdm>=4.27->transformers) (0.4.4)\n",
      "Requirement already satisfied: charset-normalizer~=2.0.0 in d:\\users\\cryst\\appdata\\local\\programs\\python\\python39\\lib\\site-packages (from requests->transformers) (2.0.6)\n",
      "Requirement already satisfied: certifi>=2017.4.17 in d:\\users\\cryst\\appdata\\local\\programs\\python\\python39\\lib\\site-packages (from requests->transformers) (2021.5.30)\n",
      "Requirement already satisfied: urllib3<1.27,>=1.21.1 in d:\\users\\cryst\\appdata\\local\\programs\\python\\python39\\lib\\site-packages (from requests->transformers) (1.26.7)\n",
      "Requirement already satisfied: idna<4,>=2.5 in d:\\users\\cryst\\appdata\\local\\programs\\python\\python39\\lib\\site-packages (from requests->transformers) (3.2)\n",
      "Installing collected packages: tokenizers, filelock, huggingface-hub, transformers\n",
      "Successfully installed filelock-3.7.1 huggingface-hub-0.8.1 tokenizers-0.12.1 transformers-4.20.1\n"
     ]
    }
   ],
   "source": [
    "! pip install transformers -i https://pypi.python.org/simple"
   ]
  },
  {
   "cell_type": "code",
   "execution_count": 61,
   "id": "6adfbf12",
   "metadata": {
    "scrolled": true
   },
   "outputs": [
    {
     "name": "stdout",
     "output_type": "stream",
     "text": [
      "user: {user.name} {user.name}\n"
     ]
    }
   ],
   "source": [
    "from transformers import RobertaTokenizer, T5ForConditionalGeneration\n",
    "\n",
    "tokenizer = RobertaTokenizer.from_pretrained('Salesforce/codet5-small')\n",
    "model = T5ForConditionalGeneration.from_pretrained('Salesforce/codet5-small')\n",
    "\n",
    "text = \"def greet(user): print(f'hello <extra_id_0>!')\"\n",
    "input_ids = tokenizer(text, return_tensors=\"pt\").input_ids\n",
    "\n",
    "# simply generate a single sequence\n",
    "generated_ids = model.generate(input_ids, max_length=1000)\n",
    "print(tokenizer.decode(generated_ids[0], skip_special_tokens=True))\n",
    "# this prints \"user: {user.name}\"\n"
   ]
  },
  {
   "cell_type": "code",
   "execution_count": 45,
   "id": "86e3ad70",
   "metadata": {},
   "outputs": [
    {
     "data": {
      "text/plain": [
       "'<pad><s><extra_id_0>user: {user.name} {user.name}</s>'"
      ]
     },
     "execution_count": 45,
     "metadata": {},
     "output_type": "execute_result"
    }
   ],
   "source": [
    "tokenizer.decode(generated_ids[0], skip_special_tokens=False)"
   ]
  },
  {
   "cell_type": "code",
   "execution_count": 39,
   "id": "3d0b59af",
   "metadata": {},
   "outputs": [
    {
     "data": {
      "text/plain": [
       "tensor([    0,     1, 32099,  1355,    30,   288,  1355,    18,   529,    97,\n",
       "          288,  1355,    18,   529,    97,     2])"
      ]
     },
     "execution_count": 39,
     "metadata": {},
     "output_type": "execute_result"
    }
   ],
   "source": [
    "generated_ids[0]"
   ]
  },
  {
   "cell_type": "code",
   "execution_count": 75,
   "id": "9e3d2857",
   "metadata": {},
   "outputs": [
    {
     "name": "stdout",
     "output_type": "stream",
     "text": [
      "model\n"
     ]
    },
    {
     "data": {
      "text/plain": [
       "tensor([[    0,     1, 32099,  2284,     2]])"
      ]
     },
     "execution_count": 75,
     "metadata": {},
     "output_type": "execute_result"
    }
   ],
   "source": [
    "from transformers import RobertaTokenizer, T5ForConditionalGeneration\n",
    "\n",
    "tokenizer = RobertaTokenizer.from_pretrained('Salesforce/codet5-small')\n",
    "model = T5ForConditionalGeneration.from_pretrained('Salesforce/codet5-small')\n",
    "#text2 = '#include \"std_testcase.h\" \\n  \\n #include <winsock2.h> \\n #pragma comment(lib, \"ws2_32\") \\n #define LISTEN_PORT 999 \\n #define LISTEN_BACKLOG 5 \\n  \\n #include <windows.h> \\n  \\n  \\n  \\n static void func2() \\n { \\n     char * data; \\n     char dataBuffer[100] = \"\"; \\n     data = dataBuffer; \\n     strcpy(data, \"hostname\"); \\n     if (!SetComputerNameA(data)) \\n     { \\n         printLine(\"Failure setting computer name\"); \\n         exit(1); \\n     } \\n } \\n  \\n void func3() \\n { \\n     func2(); \\n } \\n  \\n  \\n  \\n int main(int argc, char * argv[]) \\n { \\n     srand( (unsigned)time(NULL) ); \\n  \\n     printLine(\"Calling ...\"); \\n     func3(); \\n     printLine(\"Finished\"); \\n     return 0; \\n } \\n '\n",
    "text2 = '#include <iostream>;   int main() {    std::cout << \"Hello World!\";    return 0;}'\n",
    "text2='#include <stdio.h>; int main() {   printf(\"Hello, World!\");   return 0;}'\n",
    "text2=\"from transformers import RobertaTokenizer, T5ForConditionalGeneration \\n tokenizer = RobertaTokenizer.from_pretrained('Salesforce/codet5-small') \\n model = T5ForConditionalGeneration.from_pretrained('Salesforce/codet5-small')\"\n",
    "#text2 = \"def greet(user): print(f'hello <extra_id_0>!')\"\n",
    "input_ids2 = tokenizer(text2, return_tensors=\"pt\").input_ids\n",
    "\n",
    "# simply generate a single sequence\n",
    "generated_ids2 = model.generate(input_ids2, max_length=1000)\n",
    "print(tokenizer.decode(generated_ids2[0], skip_special_tokens=True))\n",
    "generated_ids2"
   ]
  },
  {
   "cell_type": "code",
   "execution_count": 78,
   "id": "3fa7ccc4",
   "metadata": {},
   "outputs": [
    {
     "data": {
      "text/plain": [
       "'model'"
      ]
     },
     "execution_count": 78,
     "metadata": {},
     "output_type": "execute_result"
    }
   ],
   "source": [
    "tokenizer.decode([2284], skip_special_tokens=False)"
   ]
  },
  {
   "cell_type": "code",
   "execution_count": 84,
   "id": "5bb67789",
   "metadata": {},
   "outputs": [
    {
     "data": {
      "text/plain": [
       "\"<s>from transformers import RobertaTokenizer, T5ForConditionalGeneration \\n tokenizer = RobertaTokenizer.from_pretrained('Salesforce/codet5-small') \\n model = T5ForConditionalGeneration.from_pretrained('Salesforce/codet5-small')</s>\""
      ]
     },
     "execution_count": 84,
     "metadata": {},
     "output_type": "execute_result"
    }
   ],
   "source": [
    "tokenizer.decode(input_ids2[0])"
   ]
  },
  {
   "cell_type": "code",
   "execution_count": 29,
   "id": "83c23b86",
   "metadata": {},
   "outputs": [
    {
     "name": "stdout",
     "output_type": "stream",
     "text": [
      "{\n",
      "{\n",
      "}\n",
      "{\n",
      "}\n",
      "{\n",
      "}\n",
      "}\n",
      "{\n",
      "}\n",
      "}\n",
      "{\n",
      "}\n",
      "{\n",
      "}\n",
      "{\n",
      "}\n",
      "{\n",
      "}\n",
      "}\n",
      "{\n",
      "}\n",
      "}\n",
      "{}\n",
      "}\n"
     ]
    },
    {
     "data": {
      "text/plain": [
       "tensor([[    0,     1, 32099,    95,   203, 32098,    95,   203, 32097,    97,\n",
       "           203, 32096,    95,   203, 32095,    97,   203, 32094,    95,   203,\n",
       "         32093,    97,   203, 32092,    97,   203, 32091,    95,   203, 32090,\n",
       "            97,   203, 32089,    97,   203, 32088,    95,   203, 32087,    97,\n",
       "           203, 32086,    95,   203, 32085,    97,   203, 32084,    95,   203,\n",
       "         32083,    97,   203, 32082,    95,   203, 32081,    97,   203, 32080,\n",
       "            97,   203, 32079,    95,   203, 32078,    97,   203, 32077,    97,\n",
       "           203, 32076,    95, 32075,    97,   203, 32074,    97,     2]])"
      ]
     },
     "execution_count": 29,
     "metadata": {},
     "output_type": "execute_result"
    }
   ],
   "source": [
    "text3 = '#include \"std_testcase.h\"\\n \\n #include <winsock2.h>\\n #pragma comment(lib, \"ws2_32\")\\n #define LISTEN_PORT 999\\n #define LISTEN_BACKLOG 5\\n \\n #include <windows.h>\\n \\n \\n \\n static void func2()\\n {\\n     char * data;\\n     char dataBuffer[100] = \"\";\\n     data = dataBuffer;\\n     strcpy(data, \"hostname\");\\n     if (!SetComputerNameA(data))\\n     {\\n         printLine(\"Failure setting computer name\");\\n         exit(1);\\n     }\\n }\\n \\n void func3()\\n {\\n     func2();\\n }\\n \\n \\n \\n int main(int argc, char * argv[])\\n {\\n     srand( (unsigned)time(NULL) );\\n \\n     printLine(\"Calling ...\");\\n     func3();\\n     printLine(\"Finished\");\\n     return 0;\\n }\\n '\n",
    "input_ids3 = tokenizer(text3, return_tensors=\"pt\").input_ids\n",
    "\n",
    "# simply generate a single sequence\n",
    "generated_ids3 = model.generate(input_ids3, max_length=1000)\n",
    "print(tokenizer.decode(generated_ids3[0], skip_special_tokens=True))\n",
    "generated_ids3"
   ]
  },
  {
   "cell_type": "code",
   "execution_count": 28,
   "id": "ec494b6f",
   "metadata": {},
   "outputs": [
    {
     "name": "stdout",
     "output_type": "stream",
     "text": [
      "{{{{{{}{{{{}{{{{{{{{{{{{{{ } } } }\n"
     ]
    },
    {
     "data": {
      "text/plain": [
       "tensor([[    0,     1, 32099,    95, 32098,    95, 32097,    95, 32096,    95,\n",
       "         32095,    95, 32094,    95, 32093,    97, 32092,    95, 32091,    95,\n",
       "         32090,    95, 32089,    95, 32088,    97, 32087,    95, 32086,    95,\n",
       "         32085,    95, 32084,    95, 32083,    95, 32082,    95, 32081,    95,\n",
       "         32080,    95, 32079,    95, 32078,    95, 32077,    95, 32076,    95,\n",
       "         32075,    95, 32074,    95,   289,   289,   289,   289,     2]])"
      ]
     },
     "execution_count": 28,
     "metadata": {},
     "output_type": "execute_result"
    }
   ],
   "source": [
    "text4 = '#include \"std_testcase.h\" \\n  \\n #include <winsock2.h> \\n #pragma comment(lib, \"ws2_32\") \\n #define LISTEN_PORT 999 \\n #define LISTEN_BACKLOG 5 \\n  \\n #include <windows.h> \\n  \\n  \\n  \\n void func1() \\n { \\n     char * data; \\n     char dataBuffer[100] = \"\"; \\n     data = dataBuffer; \\n     { \\n         WSADATA wsaData; \\n         BOOL wsaDataInit = FALSE; \\n         SOCKET listenSocket = INVALID_SOCKET; \\n         SOCKET acceptSocket = INVALID_SOCKET; \\n         struct sockaddr_in service; \\n         int recvResult; \\n         do \\n         { \\n             if (WSAStartup(MAKEWORD(2,2), &wsaData) != NO_ERROR) \\n             { \\n                 break; \\n             } \\n             wsaDataInit = 1; \\n             listenSocket = socket(PF_INET, SOCK_STREAM, 0); \\n             if (listenSocket == INVALID_SOCKET) \\n             { \\n                 break; \\n             } \\n             memset(&service, 0, sizeof(service)); \\n             service.sin_family = AF_INET; \\n             service.sin_addr.s_addr = INADDR_ANY; \\n             service.sin_port = htons(LISTEN_PORT); \\n             if (SOCKET_ERROR == bind(listenSocket, (struct sockaddr*)&service, sizeof(service))) \\n             { \\n                 break; \\n             } \\n             if (SOCKET_ERROR == listen(listenSocket, LISTEN_BACKLOG)) \\n             { \\n                 break; \\n             } \\n             acceptSocket = accept(listenSocket, NULL, NULL); \\n             if (acceptSocket == INVALID_SOCKET) \\n             { \\n                 break; \\n             } \\n             recvResult = recv(acceptSocket, data, 100 - 1, 0); \\n             if (recvResult == SOCKET_ERROR || recvResult == 0) \\n             { \\n                 break; \\n             } \\n             data[recvResult] = “\\0”; \\n         } \\n         while (0); \\n         if (acceptSocket != INVALID_SOCKET) \\n         { \\n             closesocket(acceptSocket); \\n         } \\n         if (listenSocket != INVALID_SOCKET) \\n         { \\n             closesocket(listenSocket); \\n         } \\n         if (wsaDataInit) \\n         { \\n             WSACleanup(); \\n         } \\n     } \\n     if (!SetComputerNameA(data)) \\n     { \\n         printLine(\"Failure setting computer name\"); \\n         exit(1); \\n     } \\n } \\n  \\n  \\n  \\n int main(int argc, char * argv[]) \\n { \\n     srand( (unsigned)time(NULL) ); \\n  \\n     printLine(\"Calling ...\"); \\n     func1(); \\n     printLine(\"Finished\"); \\n     return 0; \\n } \\n '\n",
    "\n",
    "input_ids4 = tokenizer(text4, return_tensors=\"pt\").input_ids\n",
    "\n",
    "# simply generate a single sequence\n",
    "generated_ids4 = model.generate(input_ids4, max_length=1000)\n",
    "print(tokenizer.decode(generated_ids4[0], skip_special_tokens=True))\n",
    "generated_ids4"
   ]
  },
  {
   "cell_type": "code",
   "execution_count": 25,
   "id": "ae5421d7",
   "metadata": {},
   "outputs": [],
   "source": [
    "text4 = '#include \"std_testcase.h\"    #include <winsock2.h>  #pragma comment(lib, \"ws2_32\")  #define LISTEN_PORT 999  #define LISTEN_BACKLOG 5    #include <windows.h>        void func1()  {      char * data;      char dataBuffer[100] = \"\";      data = dataBuffer;      {          WSADATA wsaData;          BOOL wsaDataInit = FALSE;          SOCKET listenSocket = INVALID_SOCKET;          SOCKET acceptSocket = INVALID_SOCKET;          struct sockaddr_in service;          int recvResult;          do          {              if (WSAStartup(MAKEWORD(2,2), &wsaData) != NO_ERROR)              {                  break;              }              wsaDataInit = 1;              listenSocket = socket(PF_INET, SOCK_STREAM, 0);              if (listenSocket == INVALID_SOCKET)              {                  break;              }              memset(&service, 0, sizeof(service));              service.sin_family = AF_INET;              service.sin_addr.s_addr = INADDR_ANY;              service.sin_port = htons(LISTEN_PORT);              if (SOCKET_ERROR == bind(listenSocket, (struct sockaddr*)&service, sizeof(service)))              {                  break;              }              if (SOCKET_ERROR == listen(listenSocket, LISTEN_BACKLOG))              {                  break;              }              acceptSocket = accept(listenSocket, NULL, NULL);              if (acceptSocket == INVALID_SOCKET)              {                  break;              }              recvResult = recv(acceptSocket, data, 100 - 1, 0);              if (recvResult == SOCKET_ERROR || recvResult == 0)              {                  break;              }              data[recvResult] = \"\\0\";          }          while (0);          if (acceptSocket != INVALID_SOCKET)          {              closesocket(acceptSocket);          }          if (listenSocket != INVALID_SOCKET)          {              closesocket(listenSocket);          }          if (wsaDataInit)          {              WSACleanup();          }      }      if (!SetComputerNameA(data))      {          printLine(\"Failure setting computer name\");          exit(1);      }  }        int main(int argc, char * argv[])  {      srand( (unsigned)time(NULL) );        printLine(\"Calling ...\");      func1();      printLine(\"Finished\");      return 0;  }  '"
   ]
  },
  {
   "cell_type": "code",
   "execution_count": 36,
   "id": "c41d61df",
   "metadata": {},
   "outputs": [
    {
     "data": {
      "application/vnd.jupyter.widget-view+json": {
       "model_id": "2372b8fcef93496e99456086f4d620d6",
       "version_major": 2,
       "version_minor": 0
      },
      "text/plain": [
       "Downloading:   0%|          | 0.00/0.99M [00:00<?, ?B/s]"
      ]
     },
     "metadata": {},
     "output_type": "display_data"
    },
    {
     "data": {
      "application/vnd.jupyter.widget-view+json": {
       "model_id": "2594eef1d24846f4b10f4171aa428708",
       "version_major": 2,
       "version_minor": 0
      },
      "text/plain": [
       "Downloading:   0%|          | 0.00/446k [00:00<?, ?B/s]"
      ]
     },
     "metadata": {},
     "output_type": "display_data"
    },
    {
     "data": {
      "application/vnd.jupyter.widget-view+json": {
       "model_id": "cd108541d1124f088062d853883bc4f7",
       "version_major": 2,
       "version_minor": 0
      },
      "text/plain": [
       "Downloading:   0%|          | 0.00/665 [00:00<?, ?B/s]"
      ]
     },
     "metadata": {},
     "output_type": "display_data"
    },
    {
     "data": {
      "application/vnd.jupyter.widget-view+json": {
       "model_id": "1f5c8208a6484db1a3f1b1215335d6b3",
       "version_major": 2,
       "version_minor": 0
      },
      "text/plain": [
       "Downloading:   0%|          | 0.00/523M [00:00<?, ?B/s]"
      ]
     },
     "metadata": {},
     "output_type": "display_data"
    },
    {
     "name": "stderr",
     "output_type": "stream",
     "text": [
      "Setting `pad_token_id` to `eos_token_id`:50256 for open-end generation.\n"
     ]
    }
   ],
   "source": [
    "from transformers import GPT2Tokenizer, GPT2LMHeadModel\n",
    "\n",
    "tokenizer = GPT2Tokenizer.from_pretrained(\"gpt2\")\n",
    "model = GPT2LMHeadModel.from_pretrained(\"gpt2\")\n",
    "\n",
    "inputs = tokenizer(\"Hello, my dog is cute and \", return_tensors=\"pt\")\n",
    "generation_output = model.generate(**inputs, return_dict_in_generate=True, output_scores=True)"
   ]
  },
  {
   "cell_type": "code",
   "execution_count": 37,
   "id": "4e5b8575",
   "metadata": {},
   "outputs": [
    {
     "data": {
      "text/plain": [
       "GreedySearchDecoderOnlyOutput(sequences=tensor([[15496,    11,   616,  3290,   318, 13779,   290,   220, 17479,    13,\n",
       "           314,  1101,   407,  1654,   611,   673,   338,   257,   922,  3290]]), scores=(tensor([[-64.3024, -65.3175, -66.9861,  ..., -78.9404, -72.8338, -67.7866]]), tensor([[-73.2116, -75.7244, -81.9891,  ..., -90.8769, -88.5996, -78.7203]]), tensor([[-146.1742, -146.3823, -147.2090,  ..., -158.8192, -157.9572,\n",
       "         -142.1863]]), tensor([[-175.1701, -174.6989, -179.6604,  ..., -186.0345, -176.7066,\n",
       "         -176.9384]]), tensor([[-149.3362, -149.3672, -152.5345,  ..., -158.5596, -155.5005,\n",
       "         -151.1143]]), tensor([[-144.5121, -146.0198, -154.7363,  ..., -155.6022, -153.6687,\n",
       "         -147.9046]]), tensor([[-139.3071, -139.9814, -148.0198,  ..., -150.1555, -150.1833,\n",
       "         -142.5465]]), tensor([[-112.5984, -112.5419, -118.2547,  ..., -120.3223, -119.8586,\n",
       "         -113.9023]]), tensor([[-144.4347, -142.7842, -150.5634,  ..., -152.9678, -146.4665,\n",
       "         -144.7417]]), tensor([[-141.1149, -140.6125, -145.6440,  ..., -147.4012, -144.3896,\n",
       "         -142.6430]]), tensor([[-118.4239, -117.7450, -122.0197,  ..., -127.3702, -124.4988,\n",
       "         -118.6751]]), tensor([[-106.5582, -105.3647, -110.1932,  ..., -114.3858, -112.6030,\n",
       "         -108.8391]])), attentions=None, hidden_states=None)"
      ]
     },
     "execution_count": 37,
     "metadata": {},
     "output_type": "execute_result"
    }
   ],
   "source": [
    "generation_output"
   ]
  },
  {
   "cell_type": "code",
   "execution_count": 56,
   "id": "ad4d8734",
   "metadata": {},
   "outputs": [
    {
     "name": "stdout",
     "output_type": "stream",
     "text": [
      "Collecting sentencepiece\n",
      "  Downloading sentencepiece-0.1.96-cp39-cp39-win_amd64.whl (1.1 MB)\n",
      "     ---------------------------------------- 1.1/1.1 MB 8.7 MB/s eta 0:00:00\n",
      "Installing collected packages: sentencepiece\n",
      "Successfully installed sentencepiece-0.1.96\n",
      "Note: you may need to restart the kernel to use updated packages.\n"
     ]
    },
    {
     "name": "stderr",
     "output_type": "stream",
     "text": [
      "WARNING: Ignoring invalid distribution -yspark (d:\\users\\cryst\\appdata\\local\\programs\\python\\python39\\lib\\site-packages)\n",
      "WARNING: Ignoring invalid distribution -ip (d:\\users\\cryst\\appdata\\local\\programs\\python\\python39\\lib\\site-packages)\n",
      "WARNING: Ignoring invalid distribution -atplotlib (d:\\users\\cryst\\appdata\\local\\programs\\python\\python39\\lib\\site-packages)\n",
      "WARNING: Ignoring invalid distribution -yspark (d:\\users\\cryst\\appdata\\local\\programs\\python\\python39\\lib\\site-packages)\n",
      "WARNING: Ignoring invalid distribution -ip (d:\\users\\cryst\\appdata\\local\\programs\\python\\python39\\lib\\site-packages)\n",
      "WARNING: Ignoring invalid distribution -atplotlib (d:\\users\\cryst\\appdata\\local\\programs\\python\\python39\\lib\\site-packages)\n",
      "WARNING: Ignoring invalid distribution -yspark (d:\\users\\cryst\\appdata\\local\\programs\\python\\python39\\lib\\site-packages)\n",
      "WARNING: Ignoring invalid distribution -ip (d:\\users\\cryst\\appdata\\local\\programs\\python\\python39\\lib\\site-packages)\n",
      "WARNING: Ignoring invalid distribution -atplotlib (d:\\users\\cryst\\appdata\\local\\programs\\python\\python39\\lib\\site-packages)\n",
      "WARNING: Ignoring invalid distribution -yspark (d:\\users\\cryst\\appdata\\local\\programs\\python\\python39\\lib\\site-packages)\n",
      "WARNING: Ignoring invalid distribution -ip (d:\\users\\cryst\\appdata\\local\\programs\\python\\python39\\lib\\site-packages)\n",
      "WARNING: Ignoring invalid distribution -atplotlib (d:\\users\\cryst\\appdata\\local\\programs\\python\\python39\\lib\\site-packages)\n",
      "WARNING: Ignoring invalid distribution -yspark (d:\\users\\cryst\\appdata\\local\\programs\\python\\python39\\lib\\site-packages)\n",
      "WARNING: Ignoring invalid distribution -ip (d:\\users\\cryst\\appdata\\local\\programs\\python\\python39\\lib\\site-packages)\n",
      "WARNING: Ignoring invalid distribution -atplotlib (d:\\users\\cryst\\appdata\\local\\programs\\python\\python39\\lib\\site-packages)\n",
      "WARNING: Ignoring invalid distribution -yspark (d:\\users\\cryst\\appdata\\local\\programs\\python\\python39\\lib\\site-packages)\n",
      "WARNING: Ignoring invalid distribution -ip (d:\\users\\cryst\\appdata\\local\\programs\\python\\python39\\lib\\site-packages)\n",
      "WARNING: Ignoring invalid distribution -atplotlib (d:\\users\\cryst\\appdata\\local\\programs\\python\\python39\\lib\\site-packages)\n",
      "WARNING: Ignoring invalid distribution -yspark (d:\\users\\cryst\\appdata\\local\\programs\\python\\python39\\lib\\site-packages)\n",
      "WARNING: Ignoring invalid distribution -ip (d:\\users\\cryst\\appdata\\local\\programs\\python\\python39\\lib\\site-packages)\n",
      "WARNING: Ignoring invalid distribution -atplotlib (d:\\users\\cryst\\appdata\\local\\programs\\python\\python39\\lib\\site-packages)\n"
     ]
    }
   ],
   "source": [
    "! pip install sentencepiece"
   ]
  },
  {
   "cell_type": "code",
   "execution_count": null,
   "id": "9e031628",
   "metadata": {},
   "outputs": [],
   "source": []
  }
 ],
 "metadata": {
  "kernelspec": {
   "display_name": "Python 3 (ipykernel)",
   "language": "python",
   "name": "python3"
  },
  "language_info": {
   "codemirror_mode": {
    "name": "ipython",
    "version": 3
   },
   "file_extension": ".py",
   "mimetype": "text/x-python",
   "name": "python",
   "nbconvert_exporter": "python",
   "pygments_lexer": "ipython3",
   "version": "3.9.12"
  }
 },
 "nbformat": 4,
 "nbformat_minor": 5
}
